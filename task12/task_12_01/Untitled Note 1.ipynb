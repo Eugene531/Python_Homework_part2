﻿{
  "metadata": {
    "name": "Untitled Note 1",
    "kernelspec": {
      "language": "scala",
      "name": "spark2-scala"
    },
    "language_info": {
      "codemirror_mode": "text/x-scala",
      "file_extension": ".scala",
      "mimetype": "text/x-scala",
      "name": "scala",
      "pygments_lexer": "scala"
    }
  },
  "nbformat": 4,
  "nbformat_minor": 2,
  "cells": [
    {
      "cell_type": "code",
      "execution_count": 0,
      "metadata": {
        "autoscroll": "auto"
      },
      "outputs": [],
      "source": "%pyspark\r\n%matplotlib inline\r\n\r\nfrom pyspark.sql import SparkSession\r\nfrom pyspark.sql.functions import col, count\r\nimport seaborn as sns\r\nimport matplotlib.pyplot as plt\r\n\r\n\r\nspark \u003d SparkSession.builder.appName(\"OlympicsAnalysis\").getOrCreate()\r\n\r\ndf \u003d spark.read.option(\"header\", \"true\").csv(\"/data/data/olympics.csv\")\r\ndf.createOrReplaceTempView(\"olympics_data\")\r\n\r\n# На какой дистанции Jesse Owens выиграл медаль?\r\ncn \u003d \"OWENS, Jesse\"\r\njesse_owens_medal_event \u003d df.filter(col(\"Athlete\") \u003d\u003d cn).select(\"Event\").first()[\"Event\"]\r\nprint(f\"Jesse Owens выиграл медаль в событии: {jesse_owens_medal_event}\")\r\n\r\n# Мужчины какой страны взяли большинство золотых медалей в бадминтоне?\r\nsport \u003d \"Badminton\"\r\nbadminton_gold_medals \u003d df.filter((col(\"Sport\") \u003d\u003d sport) \u0026 (col(\"Medal\") \u003d\u003d \"Gold\"))\r\nmost_gold_medals_country \u003d (badminton_gold_medals\r\n                            .filter(col(\"Gender\") \u003d\u003d \"Men\")\r\n                            .groupBy(\"NOC\").count()\r\n                            .orderBy(\"count\", ascending\u003dFalse)\r\n                            .first()[\"NOC\"])\r\nprint(f\"Мужчины из страны {most_gold_medals_country}\")\r\n\r\n# Какие три страны получили наибольшее количество медалей в последние\r\n# годы (с 1984 по 2008)?\r\nprint(\"Топ-3 страны с наибольшим количеством медалей в последние годы:\")\r\nrecent_medals \u003d df.filter((col(\"Edition\").between(1984, 2008)))\r\ntop_countries \u003d (recent_medals\r\n                 .groupBy(\"NOC\").count()\r\n                 .orderBy(\"count\", ascending\u003dFalse)\r\n                 .limit(3)\r\n                 .select(\"NOC\", \"count\")\r\n                 .show())\r\n\r\n# Найдите мужчин - золотых медалистов по 100m. Выведите город, год, имя атлета\r\n# и страну, за которую он выступал.\r\nprint(\"Мужчины-золотые медалисты по 100m:\")\r\nmen_100m_gold_medalists \u003d (df.filter((col(\"Event\") \u003d\u003d \"100m\") \u0026 (col(\"Medal\") \u003d\u003d \"Gold\") \u0026 (col(\"Gender\") \u003d\u003d \"Men\"))\r\n                           .select(\"City\", \"Edition\", \"Athlete\", \"NOC\")\r\n                           .orderBy(\"Edition\", ascending\u003dFalse)\r\n                           .show())\r\n\r\n# Число всех медалей, выигранных на каждой Олимпиаде\r\nmedals_by_year_sql \u003d spark.sql(\u0027\u0027\u0027\r\n    SELECT Edition, COUNT(*) AS count\r\n    FROM olympics_data\r\n    GROUP BY Edition\r\n    ORDER BY Edition\r\n\u0027\u0027\u0027)\r\n\r\nmedals_by_year_pd \u003d medals_by_year_sql.toPandas()\r\nmedals_by_year_pd[\"count\"] \u003d medals_by_year_pd[\"count\"].astype(int)\r\n\r\nplt.figure(figsize\u003d(10, 5))\r\nsns.barplot(x\u003d\"Edition\", y\u003d\"count\", data\u003dmedals_by_year_pd)\r\nplt.xlabel(\"Год Олимпиады\")\r\nplt.ylabel(\"Количество медалей\")\r\nplt.title(\"Число всех медалей по годам\")\r\nplt.show()\r\n\r\n# Статистика медалей по странам\r\nmedals_by_country \u003d spark.sql(\u0027\u0027\u0027\r\n    SELECT NOC, COUNT(*) AS `Total Medals`, MIN(Edition) AS `First Year`, MAX(Edition) AS `Last Year`\r\n    FROM olympics_data\r\n    WHERE Medal IS NOT NULL\r\n    GROUP BY NOC\r\n    ORDER BY `Total Medals` DESC\r\n\u0027\u0027\u0027)\r\nprint(\"Статистика медалей по странам:\")\r\nmedals_by_country.show()\r\n\r\n# Золотые медали по полу в атлетике\r\nusa_athletics \u003d spark.sql(\u0027\u0027\u0027\r\n    SELECT Gender, COUNT(*) AS count\r\n    FROM olympics_data\r\n    WHERE NOC \u003d \u0027USA\u0027 AND Sport \u003d \u0027Athletics\u0027 AND Medal \u003d \u0027Gold\u0027\r\n    GROUP BY Gender\r\n\u0027\u0027\u0027).toPandas()\r\n\r\nsns.barplot(x\u003d\"Gender\", y\u003d\"count\", data\u003dusa_athletics)\r\nplt.xlabel(\"Пол\")\r\nplt.ylabel(\"Количество золотых медалей\")\r\nplt.title(\"Золотые медали в атлетике для мужчин и женщин из США\")\r\nplt.show()\r\n\r\n# Топ-атлеты США по годам\r\nusa_athletes_by_year \u003d spark.sql(\u0027\u0027\u0027\r\n    SELECT Edition, FIRST(Athlete) AS Athlete, FIRST(Discipline) AS Discipline, MAX(count) AS `Total Medals`\r\n    FROM (\r\n        SELECT Edition, Athlete, Discipline, COUNT(*) AS count\r\n        FROM olympics_data\r\n        WHERE NOC \u003d \u0027USA\u0027\r\n        GROUP BY Edition, Athlete, Discipline\r\n    )\r\n    GROUP BY Edition\r\n    ORDER BY Edition\r\n\u0027\u0027\u0027)\r\nprint(\"Топ-атлеты США по годам:\")\r\nusa_athletes_by_year.show()\r\n"
    },
    {
      "cell_type": "raw",
      "metadata": {
        "format": "text/plain"
      },
      "source": "%pyspark\n"
    }
  ]
}